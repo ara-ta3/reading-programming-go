{
 "cells": [
  {
   "cell_type": "markdown",
   "metadata": {},
   "source": [
    "# 第1章 チュートリアル"
   ]
  },
  {
   "cell_type": "code",
   "execution_count": 4,
   "metadata": {
    "collapsed": true
   },
   "outputs": [],
   "source": [
    ":import fmt"
   ]
  },
  {
   "cell_type": "code",
   "execution_count": 2,
   "metadata": {
    "collapsed": false
   },
   "outputs": [
    {
     "data": {
      "text/plain": [
       "Hello World\n",
       "(int)12\n",
       "(interface {})<nil>\n"
      ]
     },
     "execution_count": 2,
     "metadata": {},
     "output_type": "execute_result"
    }
   ],
   "source": [
    "fmt.Println(\"Hello World\")"
   ]
  },
  {
   "cell_type": "code",
   "execution_count": 5,
   "metadata": {
    "collapsed": false
   },
   "outputs": [
    {
     "data": {
      "text/plain": [
       "Hello, 世界\n",
       "(int)14\n",
       "(interface {})<nil>\n"
      ]
     },
     "execution_count": 5,
     "metadata": {},
     "output_type": "execute_result"
    }
   ],
   "source": [
    "fmt.Println(\"Hello, 世界\")"
   ]
  },
  {
   "cell_type": "markdown",
   "metadata": {},
   "source": [
    "fmtはフォーマットされた出力を表示したり入力を走査したりするための関数が含まれる  \n",
    "mainパッケージ内のmain関数は特別扱いで、この関数からプログラムが実行される  \n",
    "import宣言はpackage宣言のあと  \n",
    "\n",
    "`;`は2つ以上の文や宣言が現れないかぎり使わない  \n",
    "`{`はfunc宣言の終わりと同じ行じゃないといけない  \n",
    "gofmt便利なので使いましょう  \n",
    "\n",
    "https://godoc.org/golang.org/x/tools/cmd/goimports  \n",
    "必要に応じてimport宣言の追加削除をやってくれて便利  \n",
    "\n"
   ]
  },
  {
   "cell_type": "code",
   "execution_count": 1,
   "metadata": {
    "collapsed": false
   },
   "outputs": [],
   "source": [
    "import (\n",
    "    \"fmt\"\n",
    "    \"os\"\n",
    ")\n",
    "\n",
    "func m() {\n",
    "    args := []string{\"aaa\", \"bbb\", \"ccc\"}\n",
    "    var s, sep string\n",
    "    for i := 1; i < len(args); i++ {\n",
    "        s += sep + args[i]\n",
    "        sep = \" \"\n",
    "    }\n",
    "    fmt.Println(s)\n",
    "}"
   ]
  },
  {
   "cell_type": "code",
   "execution_count": 3,
   "metadata": {
    "collapsed": false
   },
   "outputs": [
    {
     "data": {
      "text/plain": [
       "bbb ccc\n",
       "bbb ccc\n"
      ]
     },
     "execution_count": 3,
     "metadata": {},
     "output_type": "execute_result"
    }
   ],
   "source": [
    "m()"
   ]
  },
  {
   "cell_type": "code",
   "execution_count": 1,
   "metadata": {
    "collapsed": true
   },
   "outputs": [],
   "source": [
    "import (\n",
    "    \"fmt\"\n",
    ")\n",
    "\n",
    "func echo() {\n",
    "    fmt.Println(\"aaa\")\n",
    "}"
   ]
  },
  {
   "cell_type": "code",
   "execution_count": 2,
   "metadata": {
    "collapsed": false
   },
   "outputs": [
    {
     "data": {
      "text/plain": [
       "aaa\n"
      ]
     },
     "execution_count": 2,
     "metadata": {},
     "output_type": "execute_result"
    }
   ],
   "source": [
    "echo ()"
   ]
  },
  {
   "cell_type": "code",
   "execution_count": 3,
   "metadata": {
    "collapsed": false
   },
   "outputs": [
    {
     "data": {
      "text/plain": [
       "aaa\n"
      ]
     },
     "execution_count": 3,
     "metadata": {},
     "output_type": "execute_result"
    }
   ],
   "source": [
    "// os.Argsとか使わなければよさ気"
   ]
  },
  {
   "cell_type": "markdown",
   "metadata": {},
   "source": [
    "forループ  \n",
    "Goでは唯一のループ  \n",
    "\n",
    "```\n",
    "for initialization; condition; post {\n",
    "\n",
    "}\n",
    "```\n",
    "\n",
    "従来のwhile  \n",
    "\n",
    "```\n",
    "for condition {\n",
    "\n",
    "}\n",
    "```\n",
    "\n",
    "無限ループ  \n",
    "\n",
    "```\n",
    "for {\n",
    "\n",
    "}\n",
    "```\n",
    "いつも通りbreakやreturnで終了させることはできる  \n"
   ]
  },
  {
   "cell_type": "code",
   "execution_count": 1,
   "metadata": {
    "collapsed": true
   },
   "outputs": [],
   "source": [
    "import (\n",
    "    \"fmt\"\n",
    ")\n",
    "\n",
    "func echo2() {\n",
    "    s, sep := \"\", \"\"\n",
    "    args := []string{\"aaa\", \"bbb\",\"ccc\"}\n",
    "    \n",
    "    for _, arg := range args[1:] {\n",
    "        s += sep + arg\n",
    "        sep = \" \"\n",
    "    }\n",
    "    fmt.Println(s)\n",
    "}\n",
    "\n"
   ]
  },
  {
   "cell_type": "code",
   "execution_count": 2,
   "metadata": {
    "collapsed": false
   },
   "outputs": [
    {
     "data": {
      "text/plain": [
       "bbb ccc\n"
      ]
     },
     "execution_count": 2,
     "metadata": {},
     "output_type": "execute_result"
    }
   ],
   "source": [
    "echo2()"
   ]
  },
  {
   "cell_type": "markdown",
   "metadata": {},
   "source": [
    "Goは使われないローカル変数があるとコンパイルエラーになる  \n",
    "なので、例えばforループでindexをbindさせたくない時はブランク識別子 `_` を使う  \n"
   ]
  },
  {
   "cell_type": "code",
   "execution_count": 1,
   "metadata": {
    "collapsed": false
   },
   "outputs": [],
   "source": [
    "import (\n",
    "    \"fmt\"\n",
    "    \"strings\"\n",
    ")\n",
    "\n",
    "func echo3() {\n",
    "    args := []string{\"aaa\", \"bbb\",\"ccc\"}\n",
    "    fmt.Println(strings.Join(args, \" \"))\n",
    "}"
   ]
  },
  {
   "cell_type": "code",
   "execution_count": 2,
   "metadata": {
    "collapsed": false
   },
   "outputs": [
    {
     "data": {
      "text/plain": [
       "aaa bbb ccc\n"
      ]
     },
     "execution_count": 2,
     "metadata": {},
     "output_type": "execute_result"
    }
   ],
   "source": [
    "echo3()"
   ]
  },
  {
   "cell_type": "code",
   "execution_count": 1,
   "metadata": {
    "collapsed": false
   },
   "outputs": [],
   "source": [
    "import (\n",
    "    \"fmt\"\n",
    ")\n",
    "\n",
    "func echo22() {\n",
    "    args := []string{\"aaa\", \"bbb\",\"ccc\"}\n",
    "    for i, arg := range args[1:] {\n",
    "        fmt.Println(i, arg)\n",
    "    }\n",
    "}\n"
   ]
  },
  {
   "cell_type": "code",
   "execution_count": 2,
   "metadata": {
    "collapsed": false
   },
   "outputs": [
    {
     "data": {
      "text/plain": [
       "0 bbb\n",
       "1 ccc\n"
      ]
     },
     "execution_count": 2,
     "metadata": {},
     "output_type": "execute_result"
    }
   ],
   "source": [
    "echo22()"
   ]
  },
  {
   "cell_type": "code",
   "execution_count": null,
   "metadata": {
    "collapsed": true
   },
   "outputs": [],
   "source": []
  }
 ],
 "metadata": {
  "kernelspec": {
   "display_name": "Golang",
   "language": "go",
   "name": "gophernotes"
  },
  "language_info": {
   "name": "go"
  }
 },
 "nbformat": 4,
 "nbformat_minor": 0
}
